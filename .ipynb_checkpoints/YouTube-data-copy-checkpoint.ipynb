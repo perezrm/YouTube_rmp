{
 "cells": [
  {
   "cell_type": "markdown",
   "metadata": {},
   "source": [
    "source: https://www.kaggle.com/hoonkeng/deep-analysis-on-youtube-trending-videos-eda/notebook\n"
   ]
  },
  {
   "cell_type": "code",
   "execution_count": 6,
   "metadata": {},
   "outputs": [],
   "source": [
    "# Import the necessary packages and modules\n",
    "\n",
    "import os\n",
    "import pandas as pd\n",
    "import seaborn as sns\n",
    "import numpy as np\n",
    "import matplotlib.pyplot as plt"
   ]
  },
  {
   "cell_type": "code",
   "execution_count": 2,
   "metadata": {},
   "outputs": [
    {
     "name": "stdout",
     "output_type": "stream",
     "text": [
      "/Users/rosemaryperez/Desktop/YouTube_RoseMaryPerez\r\n"
     ]
    }
   ],
   "source": [
    "!pwd"
   ]
  },
  {
   "cell_type": "code",
   "execution_count": 3,
   "metadata": {},
   "outputs": [
    {
     "name": "stdout",
     "output_type": "stream",
     "text": [
      "dataframe.csv                dataframe_all_timestamps.csv\r\n"
     ]
    }
   ],
   "source": [
    "!ls ../YouTubeData"
   ]
  },
  {
   "cell_type": "code",
   "execution_count": 12,
   "metadata": {},
   "outputs": [],
   "source": [
    "# Pandas df dateframe in another folder\n",
    "\n",
    "filepath = \"YouTubeData\"\n",
    "filename1 = os.path.join('..',filepath,'dataframe.csv')\n",
    "filename2 = os.path.join('..',filepath,'dataframe_all_timestamps.csv')\n",
    "\n",
    "#print(filename1, filename2)\n",
    "df = pd.read_csv(filename1)\n",
    "df_all_timestamps = pd.read_csv(filename2)"
   ]
  },
  {
   "cell_type": "code",
   "execution_count": 13,
   "metadata": {},
   "outputs": [
    {
     "name": "stdout",
     "output_type": "stream",
     "text": [
      "<class 'pandas.core.frame.DataFrame'>\n",
      "RangeIndex: 171149 entries, 0 to 171148\n",
      "Data columns (total 19 columns):\n",
      "video_id                  171149 non-null object\n",
      "trending_date             171149 non-null object\n",
      "title                     171149 non-null object\n",
      "channel_title             171149 non-null object\n",
      "category_id               171149 non-null int64\n",
      "category                  171149 non-null object\n",
      "publish_date              171149 non-null object\n",
      "publish_time              171149 non-null object\n",
      "tags                      171149 non-null object\n",
      "views                     171149 non-null int64\n",
      "likes                     171149 non-null int64\n",
      "dislikes                  171149 non-null int64\n",
      "comment_count             171149 non-null int64\n",
      "thumbnail_link            171149 non-null object\n",
      "comments_disabled         171149 non-null bool\n",
      "ratings_disabled          171149 non-null bool\n",
      "video_error_or_removed    171149 non-null bool\n",
      "description               171149 non-null object\n",
      "country                   171149 non-null object\n",
      "dtypes: bool(3), int64(5), object(11)\n",
      "memory usage: 21.4+ MB\n"
     ]
    }
   ],
   "source": [
    "df.info()"
   ]
  },
  {
   "cell_type": "code",
   "execution_count": 6,
   "metadata": {},
   "outputs": [
    {
     "name": "stdout",
     "output_type": "stream",
     "text": [
      "<class 'pandas.core.frame.DataFrame'>\n",
      "RangeIndex: 356350 entries, 0 to 356349\n",
      "Data columns (total 19 columns):\n",
      "video_id                  356350 non-null object\n",
      "trending_date             356350 non-null object\n",
      "title                     356350 non-null object\n",
      "channel_title             356350 non-null object\n",
      "category_id               356350 non-null int64\n",
      "category                  356350 non-null object\n",
      "publish_date              356350 non-null object\n",
      "publish_time              356350 non-null object\n",
      "tags                      356350 non-null object\n",
      "views                     356350 non-null int64\n",
      "likes                     356350 non-null int64\n",
      "dislikes                  356350 non-null int64\n",
      "comment_count             356350 non-null int64\n",
      "thumbnail_link            356350 non-null object\n",
      "comments_disabled         356350 non-null bool\n",
      "ratings_disabled          356350 non-null bool\n",
      "video_error_or_removed    356350 non-null bool\n",
      "description               356350 non-null object\n",
      "country                   356350 non-null object\n",
      "dtypes: bool(3), int64(5), object(11)\n",
      "memory usage: 44.5+ MB\n"
     ]
    }
   ],
   "source": [
    "df_all_timestamps.info()"
   ]
  },
  {
   "cell_type": "code",
   "execution_count": 81,
   "metadata": {
    "scrolled": false
   },
   "outputs": [
    {
     "data": {
      "text/html": [
       "<div>\n",
       "<style scoped>\n",
       "    .dataframe tbody tr th:only-of-type {\n",
       "        vertical-align: middle;\n",
       "    }\n",
       "\n",
       "    .dataframe tbody tr th {\n",
       "        vertical-align: top;\n",
       "    }\n",
       "\n",
       "    .dataframe thead th {\n",
       "        text-align: right;\n",
       "    }\n",
       "</style>\n",
       "<table border=\"1\" class=\"dataframe\">\n",
       "  <thead>\n",
       "    <tr style=\"text-align: right;\">\n",
       "      <th></th>\n",
       "      <th>category</th>\n",
       "      <th>category_id</th>\n",
       "      <th>country</th>\n",
       "    </tr>\n",
       "  </thead>\n",
       "  <tbody>\n",
       "    <tr>\n",
       "      <td>0</td>\n",
       "      <td>Film &amp; Animation</td>\n",
       "      <td>1</td>\n",
       "      <td>FR</td>\n",
       "    </tr>\n",
       "    <tr>\n",
       "      <td>1</td>\n",
       "      <td>Gaming</td>\n",
       "      <td>20</td>\n",
       "      <td>FR</td>\n",
       "    </tr>\n",
       "    <tr>\n",
       "      <td>2</td>\n",
       "      <td>News &amp; Politics</td>\n",
       "      <td>25</td>\n",
       "      <td>FR</td>\n",
       "    </tr>\n",
       "    <tr>\n",
       "      <td>3</td>\n",
       "      <td>Film &amp; Animation</td>\n",
       "      <td>1</td>\n",
       "      <td>FR</td>\n",
       "    </tr>\n",
       "    <tr>\n",
       "      <td>4</td>\n",
       "      <td>Comedy</td>\n",
       "      <td>23</td>\n",
       "      <td>FR</td>\n",
       "    </tr>\n",
       "    <tr>\n",
       "      <td>...</td>\n",
       "      <td>...</td>\n",
       "      <td>...</td>\n",
       "      <td>...</td>\n",
       "    </tr>\n",
       "    <tr>\n",
       "      <td>171144</td>\n",
       "      <td>Sports</td>\n",
       "      <td>17</td>\n",
       "      <td>DE</td>\n",
       "    </tr>\n",
       "    <tr>\n",
       "      <td>171145</td>\n",
       "      <td>Howto &amp; Style</td>\n",
       "      <td>26</td>\n",
       "      <td>DE</td>\n",
       "    </tr>\n",
       "    <tr>\n",
       "      <td>171146</td>\n",
       "      <td>Entertainment</td>\n",
       "      <td>24</td>\n",
       "      <td>DE</td>\n",
       "    </tr>\n",
       "    <tr>\n",
       "      <td>171147</td>\n",
       "      <td>People &amp; Blogs</td>\n",
       "      <td>22</td>\n",
       "      <td>DE</td>\n",
       "    </tr>\n",
       "    <tr>\n",
       "      <td>171148</td>\n",
       "      <td>Gaming</td>\n",
       "      <td>20</td>\n",
       "      <td>US</td>\n",
       "    </tr>\n",
       "  </tbody>\n",
       "</table>\n",
       "<p>171149 rows × 3 columns</p>\n",
       "</div>"
      ],
      "text/plain": [
       "                category  category_id country\n",
       "0       Film & Animation            1      FR\n",
       "1                 Gaming           20      FR\n",
       "2        News & Politics           25      FR\n",
       "3       Film & Animation            1      FR\n",
       "4                 Comedy           23      FR\n",
       "...                  ...          ...     ...\n",
       "171144            Sports           17      DE\n",
       "171145     Howto & Style           26      DE\n",
       "171146     Entertainment           24      DE\n",
       "171147    People & Blogs           22      DE\n",
       "171148            Gaming           20      US\n",
       "\n",
       "[171149 rows x 3 columns]"
      ]
     },
     "execution_count": 81,
     "metadata": {},
     "output_type": "execute_result"
    }
   ],
   "source": [
    "df [['category', 'category_id', 'country']]"
   ]
  },
  {
   "cell_type": "markdown",
   "metadata": {},
   "source": [
    "The Pandas Plot Function\n",
    "\n",
    "Pandas has a built in .plot() function as part of the DataFrame class. It has several key parameters:\n",
    "\n",
    "kind — ‘bar’,’barh’,’pie’,’scatter’,’kde’ etc which can be found in the docs.\n",
    "color — Which accepts and array of hex codes corresponding sequential to each data series / column.\n",
    "linestyle — ‘solid’, ‘dotted’, ‘dashed’ (applies to line graphs only)\n",
    "xlim, ylim — specify a tuple (lower limit, upper limit) for which the plot will be drawn\n",
    "legend— a boolean value to display or hide the legend\n",
    "labels — a list corresponding to the number of columns in the dataframe, a descriptive name can be provided here for the legend\n",
    "title — The string title of the plot"
   ]
  },
  {
   "cell_type": "code",
   "execution_count": 8,
   "metadata": {},
   "outputs": [
    {
     "data": {
      "image/png": "[encoded data removed]",
      "text/plain": [
       "<Figure size 432x288 with 1 Axes>"
      ]
     },
     "metadata": {
      "needs_background": "light"
     },
     "output_type": "display_data"
    }
   ],
   "source": [
    "#1\n",
    "# title: Sets the title of the chart, which is passed as an argument.\n",
    "# ylabel: Sets the label of the Y axis. xlabel can be used to set the label of the X axis.\n",
    "# yticks: Sets which ticks to show on the Y axis. xticks is the corresponding option for showing ticks on the X axis.\n",
    "# legend: Displays the legend on the plot. The loc argument of the .legend() method sets the position of the legend\n",
    "# on the graph. The best option for the loc arguments lets Matplotlib decide the least intrusive position of the\n",
    "# legend on the figure.\n",
    "\n",
    "plt.plot([0,1,2,3,4], label ='y = x')\n",
    "plt.title('Y = X One Straight Line')\n",
    "plt.ylabel('Y Axis')\n",
    "plt.xlabel('X Axis')\n",
    "plt.yticks([1,2,3,4])\n",
    "plt.xticks([1,2,3,4])\n",
    "plt.legend(loc = 'best')\n",
    "plt.show()"
   ]
  },
  {
   "cell_type": "code",
   "execution_count": 9,
   "metadata": {},
   "outputs": [
    {
     "data": {
      "image/png": "[encoded data removed]",
      "text/plain": [
       "<Figure size 432x288 with 1 Axes>"
      ]
     },
     "metadata": {
      "needs_background": "light"
     },
     "output_type": "display_data"
    }
   ],
   "source": [
    "#2\n",
    "plt.plot([0,1,2,3,4], label='y = x')\n",
    "plt.plot([0,2,4,6,8], label='y = 2x')\n",
    "\n",
    "plt.title('Two Straight Lines')\n",
    "plt.ylabel('Y Axis')\n",
    "plt.xlabel('X Axis')\n",
    "plt.legend(loc = 'best')\n",
    "plt.show()"
   ]
  },
  {
   "cell_type": "code",
   "execution_count": 10,
   "metadata": {},
   "outputs": [
    {
     "data": {
      "image/png": "[encoded data removed]",
      "text/plain": [
       "<Figure size 432x288 with 1 Axes>"
      ]
     },
     "metadata": {
      "needs_background": "light"
     },
     "output_type": "display_data"
    }
   ],
   "source": [
    "#3\n",
    "# To create a scatter plot of points on the XY plane, use the .scatter() method\n",
    "plt.scatter([1,2,3,4], [5,1,4,2])\n",
    "plt.show()"
   ]
  },
  {
   "cell_type": "code",
   "execution_count": 11,
   "metadata": {},
   "outputs": [
    {
     "data": {
      "text/plain": [
       "Index(['video_id', 'trending_date', 'title', 'channel_title', 'category_id',\n",
       "       'category', 'publish_date', 'publish_time', 'tags', 'views', 'likes',\n",
       "       'dislikes', 'comment_count', 'thumbnail_link', 'comments_disabled',\n",
       "       'ratings_disabled', 'video_error_or_removed', 'description', 'country'],\n",
       "      dtype='object')"
      ]
     },
     "execution_count": 11,
     "metadata": {},
     "output_type": "execute_result"
    }
   ],
   "source": [
    "df.columns"
   ]
  },
  {
   "cell_type": "code",
   "execution_count": 16,
   "metadata": {},
   "outputs": [
    {
     "data": {
      "text/html": [
       "<div>\n",
       "<style scoped>\n",
       "    .dataframe tbody tr th:only-of-type {\n",
       "        vertical-align: middle;\n",
       "    }\n",
       "\n",
       "    .dataframe tbody tr th {\n",
       "        vertical-align: top;\n",
       "    }\n",
       "\n",
       "    .dataframe thead th {\n",
       "        text-align: right;\n",
       "    }\n",
       "</style>\n",
       "<table border=\"1\" class=\"dataframe\">\n",
       "  <thead>\n",
       "    <tr style=\"text-align: right;\">\n",
       "      <th></th>\n",
       "      <th>video_id</th>\n",
       "      <th>trending_date</th>\n",
       "      <th>title</th>\n",
       "      <th>channel_title</th>\n",
       "      <th>category_id</th>\n",
       "      <th>category</th>\n",
       "      <th>publish_date</th>\n",
       "      <th>publish_time</th>\n",
       "      <th>tags</th>\n",
       "      <th>views</th>\n",
       "      <th>likes</th>\n",
       "      <th>dislikes</th>\n",
       "      <th>comment_count</th>\n",
       "      <th>thumbnail_link</th>\n",
       "      <th>comments_disabled</th>\n",
       "      <th>ratings_disabled</th>\n",
       "      <th>video_error_or_removed</th>\n",
       "      <th>description</th>\n",
       "      <th>country</th>\n",
       "    </tr>\n",
       "  </thead>\n",
       "  <tbody>\n",
       "    <tr>\n",
       "      <td>0</td>\n",
       "      <td>cJon8yBKv3g</td>\n",
       "      <td>2017-11-14</td>\n",
       "      <td>Kingsman : Le Cercle d'or (Mickael J Critique)</td>\n",
       "      <td>MJ - FERMEZ LA</td>\n",
       "      <td>1</td>\n",
       "      <td>Film &amp; Animation</td>\n",
       "      <td>2017-11-12</td>\n",
       "      <td>17:58:57</td>\n",
       "      <td>VoxMakers\"|\"FERMEZ LA\"|\"Alert Spoiler\"|\"Matthe...</td>\n",
       "      <td>19487</td>\n",
       "      <td>1596</td>\n",
       "      <td>23</td>\n",
       "      <td>215</td>\n",
       "      <td>https://i.ytimg.com/vi/cJon8yBKv3g/default.jpg</td>\n",
       "      <td>False</td>\n",
       "      <td>False</td>\n",
       "      <td>False</td>\n",
       "      <td>Avec un peu de retard, voici l'avis de Mickael...</td>\n",
       "      <td>FR</td>\n",
       "    </tr>\n",
       "    <tr>\n",
       "      <td>1</td>\n",
       "      <td>g12KeCPRB4Q</td>\n",
       "      <td>2017-11-14</td>\n",
       "      <td>Vide grenier LIVE - 12 Novembre 2017</td>\n",
       "      <td>Kirby-54</td>\n",
       "      <td>20</td>\n",
       "      <td>Gaming</td>\n",
       "      <td>2017-11-12</td>\n",
       "      <td>13:46:18</td>\n",
       "      <td>Vide grenier\"|\"vide grenier live\"|\"brocante\"|\"...</td>\n",
       "      <td>20744</td>\n",
       "      <td>1032</td>\n",
       "      <td>558</td>\n",
       "      <td>243</td>\n",
       "      <td>https://i.ytimg.com/vi/g12KeCPRB4Q/default.jpg</td>\n",
       "      <td>False</td>\n",
       "      <td>False</td>\n",
       "      <td>False</td>\n",
       "      <td>C'est reparti pour un nouveau compte rendu vid...</td>\n",
       "      <td>FR</td>\n",
       "    </tr>\n",
       "    <tr>\n",
       "      <td>2</td>\n",
       "      <td>irIZRH3JlIw</td>\n",
       "      <td>2017-11-14</td>\n",
       "      <td>لقجع يثور في وجه الإتحاد الإيفواري بسبب الجماه...</td>\n",
       "      <td>أخبار اليوم</td>\n",
       "      <td>25</td>\n",
       "      <td>News &amp; Politics</td>\n",
       "      <td>2017-11-12</td>\n",
       "      <td>19:08:08</td>\n",
       "      <td>قناة أخبار اليوم\"|\"يومية المغرب\"|\"دولية\"|\"قضية...</td>\n",
       "      <td>207452</td>\n",
       "      <td>1415</td>\n",
       "      <td>148</td>\n",
       "      <td>90</td>\n",
       "      <td>https://i.ytimg.com/vi/irIZRH3JlIw/default.jpg</td>\n",
       "      <td>False</td>\n",
       "      <td>False</td>\n",
       "      <td>False</td>\n",
       "      <td>لقجع يثور في وجه الإتحاد الإيفواري بسبب الجماه...</td>\n",
       "      <td>FR</td>\n",
       "    </tr>\n",
       "    <tr>\n",
       "      <td>3</td>\n",
       "      <td>SnHtzkQZggA</td>\n",
       "      <td>2017-11-14</td>\n",
       "      <td>عروس اسطنبول | اعلان الحلقة 25 | - مترجم للعربية</td>\n",
       "      <td>تركييتنا - bizim Türkiye</td>\n",
       "      <td>1</td>\n",
       "      <td>Film &amp; Animation</td>\n",
       "      <td>2017-11-13</td>\n",
       "      <td>19:58:33</td>\n",
       "      <td>مسلسل عروس اسطنبول\"|\"عروس اسطنبول\"|\"عروس اسطنب...</td>\n",
       "      <td>15899</td>\n",
       "      <td>142</td>\n",
       "      <td>10</td>\n",
       "      <td>7</td>\n",
       "      <td>https://i.ytimg.com/vi/SnHtzkQZggA/default.jpg</td>\n",
       "      <td>False</td>\n",
       "      <td>False</td>\n",
       "      <td>False</td>\n",
       "      <td>عروس اسطنبول | اعلان الحلقة 25 | - مترجم للعرب...</td>\n",
       "      <td>FR</td>\n",
       "    </tr>\n",
       "    <tr>\n",
       "      <td>4</td>\n",
       "      <td>u6EoWM2KMPE</td>\n",
       "      <td>2017-11-14</td>\n",
       "      <td>Portokalli, 12 Nentor 2017 - Policat e postbll...</td>\n",
       "      <td>Top Channel Albania</td>\n",
       "      <td>23</td>\n",
       "      <td>Comedy</td>\n",
       "      <td>2017-11-13</td>\n",
       "      <td>13:33:26</td>\n",
       "      <td>Portokalli\"|\"Comedy Show\"|\"Top Channel Albania...</td>\n",
       "      <td>100607</td>\n",
       "      <td>1159</td>\n",
       "      <td>48</td>\n",
       "      <td>35</td>\n",
       "      <td>https://i.ytimg.com/vi/u6EoWM2KMPE/default.jpg</td>\n",
       "      <td>False</td>\n",
       "      <td>False</td>\n",
       "      <td>False</td>\n",
       "      <td>http://top-channel.tv/programe/portokalli/</td>\n",
       "      <td>FR</td>\n",
       "    </tr>\n",
       "  </tbody>\n",
       "</table>\n",
       "</div>"
      ],
      "text/plain": [
       "      video_id trending_date  \\\n",
       "0  cJon8yBKv3g    2017-11-14   \n",
       "1  g12KeCPRB4Q    2017-11-14   \n",
       "2  irIZRH3JlIw    2017-11-14   \n",
       "3  SnHtzkQZggA    2017-11-14   \n",
       "4  u6EoWM2KMPE    2017-11-14   \n",
       "\n",
       "                                               title  \\\n",
       "0     Kingsman : Le Cercle d'or (Mickael J Critique)   \n",
       "1               Vide grenier LIVE - 12 Novembre 2017   \n",
       "2  لقجع يثور في وجه الإتحاد الإيفواري بسبب الجماه...   \n",
       "3   عروس اسطنبول | اعلان الحلقة 25 | - مترجم للعربية   \n",
       "4  Portokalli, 12 Nentor 2017 - Policat e postbll...   \n",
       "\n",
       "              channel_title  category_id          category publish_date  \\\n",
       "0            MJ - FERMEZ LA            1  Film & Animation   2017-11-12   \n",
       "1                  Kirby-54           20            Gaming   2017-11-12   \n",
       "2               أخبار اليوم           25   News & Politics   2017-11-12   \n",
       "3  تركييتنا - bizim Türkiye            1  Film & Animation   2017-11-13   \n",
       "4       Top Channel Albania           23            Comedy   2017-11-13   \n",
       "\n",
       "  publish_time                                               tags   views  \\\n",
       "0     17:58:57  VoxMakers\"|\"FERMEZ LA\"|\"Alert Spoiler\"|\"Matthe...   19487   \n",
       "1     13:46:18  Vide grenier\"|\"vide grenier live\"|\"brocante\"|\"...   20744   \n",
       "2     19:08:08  قناة أخبار اليوم\"|\"يومية المغرب\"|\"دولية\"|\"قضية...  207452   \n",
       "3     19:58:33  مسلسل عروس اسطنبول\"|\"عروس اسطنبول\"|\"عروس اسطنب...   15899   \n",
       "4     13:33:26  Portokalli\"|\"Comedy Show\"|\"Top Channel Albania...  100607   \n",
       "\n",
       "   likes  dislikes  comment_count  \\\n",
       "0   1596        23            215   \n",
       "1   1032       558            243   \n",
       "2   1415       148             90   \n",
       "3    142        10              7   \n",
       "4   1159        48             35   \n",
       "\n",
       "                                   thumbnail_link  comments_disabled  \\\n",
       "0  https://i.ytimg.com/vi/cJon8yBKv3g/default.jpg              False   \n",
       "1  https://i.ytimg.com/vi/g12KeCPRB4Q/default.jpg              False   \n",
       "2  https://i.ytimg.com/vi/irIZRH3JlIw/default.jpg              False   \n",
       "3  https://i.ytimg.com/vi/SnHtzkQZggA/default.jpg              False   \n",
       "4  https://i.ytimg.com/vi/u6EoWM2KMPE/default.jpg              False   \n",
       "\n",
       "   ratings_disabled  video_error_or_removed  \\\n",
       "0             False                   False   \n",
       "1             False                   False   \n",
       "2             False                   False   \n",
       "3             False                   False   \n",
       "4             False                   False   \n",
       "\n",
       "                                         description country  \n",
       "0  Avec un peu de retard, voici l'avis de Mickael...      FR  \n",
       "1  C'est reparti pour un nouveau compte rendu vid...      FR  \n",
       "2  لقجع يثور في وجه الإتحاد الإيفواري بسبب الجماه...      FR  \n",
       "3  عروس اسطنبول | اعلان الحلقة 25 | - مترجم للعرب...      FR  \n",
       "4         http://top-channel.tv/programe/portokalli/      FR  "
      ]
     },
     "execution_count": 16,
     "metadata": {},
     "output_type": "execute_result"
    }
   ],
   "source": [
    "FRMXRU = df[df['country'].isin(['FR', 'MX', 'RU'])]\n",
    "FRMXRU.head()"
   ]
  },
  {
   "cell_type": "code",
   "execution_count": 13,
   "metadata": {},
   "outputs": [
    {
     "data": {
      "text/html": [
       "<div>\n",
       "<style scoped>\n",
       "    .dataframe tbody tr th:only-of-type {\n",
       "        vertical-align: middle;\n",
       "    }\n",
       "\n",
       "    .dataframe tbody tr th {\n",
       "        vertical-align: top;\n",
       "    }\n",
       "\n",
       "    .dataframe thead th {\n",
       "        text-align: right;\n",
       "    }\n",
       "</style>\n",
       "<table border=\"1\" class=\"dataframe\">\n",
       "  <thead>\n",
       "    <tr style=\"text-align: right;\">\n",
       "      <th></th>\n",
       "      <th>category_id</th>\n",
       "      <th>views</th>\n",
       "      <th>likes</th>\n",
       "      <th>dislikes</th>\n",
       "      <th>comment_count</th>\n",
       "    </tr>\n",
       "  </thead>\n",
       "  <tbody>\n",
       "    <tr>\n",
       "      <td>count</td>\n",
       "      <td>171149.000000</td>\n",
       "      <td>1.711490e+05</td>\n",
       "      <td>1.711490e+05</td>\n",
       "      <td>1.711490e+05</td>\n",
       "      <td>1.711490e+05</td>\n",
       "    </tr>\n",
       "    <tr>\n",
       "      <td>mean</td>\n",
       "      <td>20.922576</td>\n",
       "      <td>3.628359e+05</td>\n",
       "      <td>1.010452e+04</td>\n",
       "      <td>6.533677e+02</td>\n",
       "      <td>1.304655e+03</td>\n",
       "    </tr>\n",
       "    <tr>\n",
       "      <td>std</td>\n",
       "      <td>6.753576</td>\n",
       "      <td>2.888626e+06</td>\n",
       "      <td>5.417935e+04</td>\n",
       "      <td>6.348801e+03</td>\n",
       "      <td>7.834437e+03</td>\n",
       "    </tr>\n",
       "    <tr>\n",
       "      <td>min</td>\n",
       "      <td>1.000000</td>\n",
       "      <td>1.530000e+02</td>\n",
       "      <td>0.000000e+00</td>\n",
       "      <td>0.000000e+00</td>\n",
       "      <td>0.000000e+00</td>\n",
       "    </tr>\n",
       "    <tr>\n",
       "      <td>25%</td>\n",
       "      <td>20.000000</td>\n",
       "      <td>2.263500e+04</td>\n",
       "      <td>3.460000e+02</td>\n",
       "      <td>2.100000e+01</td>\n",
       "      <td>5.500000e+01</td>\n",
       "    </tr>\n",
       "    <tr>\n",
       "      <td>50%</td>\n",
       "      <td>24.000000</td>\n",
       "      <td>7.664000e+04</td>\n",
       "      <td>1.498000e+03</td>\n",
       "      <td>7.900000e+01</td>\n",
       "      <td>2.350000e+02</td>\n",
       "    </tr>\n",
       "    <tr>\n",
       "      <td>75%</td>\n",
       "      <td>24.000000</td>\n",
       "      <td>2.424700e+05</td>\n",
       "      <td>5.830000e+03</td>\n",
       "      <td>2.900000e+02</td>\n",
       "      <td>8.320000e+02</td>\n",
       "    </tr>\n",
       "    <tr>\n",
       "      <td>max</td>\n",
       "      <td>44.000000</td>\n",
       "      <td>4.245389e+08</td>\n",
       "      <td>5.613827e+06</td>\n",
       "      <td>1.753274e+06</td>\n",
       "      <td>1.228655e+06</td>\n",
       "    </tr>\n",
       "  </tbody>\n",
       "</table>\n",
       "</div>"
      ],
      "text/plain": [
       "         category_id         views         likes      dislikes  comment_count\n",
       "count  171149.000000  1.711490e+05  1.711490e+05  1.711490e+05   1.711490e+05\n",
       "mean       20.922576  3.628359e+05  1.010452e+04  6.533677e+02   1.304655e+03\n",
       "std         6.753576  2.888626e+06  5.417935e+04  6.348801e+03   7.834437e+03\n",
       "min         1.000000  1.530000e+02  0.000000e+00  0.000000e+00   0.000000e+00\n",
       "25%        20.000000  2.263500e+04  3.460000e+02  2.100000e+01   5.500000e+01\n",
       "50%        24.000000  7.664000e+04  1.498000e+03  7.900000e+01   2.350000e+02\n",
       "75%        24.000000  2.424700e+05  5.830000e+03  2.900000e+02   8.320000e+02\n",
       "max        44.000000  4.245389e+08  5.613827e+06  1.753274e+06   1.228655e+06"
      ]
     },
     "execution_count": 13,
     "metadata": {},
     "output_type": "execute_result"
    }
   ],
   "source": [
    "df.describe()"
   ]
  },
  {
   "cell_type": "code",
   "execution_count": 25,
   "metadata": {},
   "outputs": [
    {
     "data": {
      "image/png": "[encoded data removed]",
      "text/plain": [
       "<Figure size 432x432 with 1 Axes>"
      ]
     },
     "metadata": {
      "needs_background": "light"
     },
     "output_type": "display_data"
    }
   ],
   "source": [
    "fig = plt.figure(figsize=(6,6)) # define plot area and size it\n",
    "ax = fig.gca() # define axis \n",
    "\n",
    "\n",
    "plt.plot([0,1,2,3,4], label='y = x')\n",
    "plt.plot([0,2,4,6,8], label='y = 2x')\n",
    "\n",
    "\n",
    "plt.title('Two Straight Lines')\n",
    "plt.ylabel('Y Axis')\n",
    "plt.xlabel('X Axis')\n",
    "plt.legend(loc = 'best')\n",
    "plt.show()"
   ]
  },
  {
   "cell_type": "code",
   "execution_count": 27,
   "metadata": {},
   "outputs": [
    {
     "data": {
      "image/png": "[encoded data removed]",
      "text/plain": [
       "<Figure size 432x432 with 1 Axes>"
      ]
     },
     "metadata": {
      "needs_background": "light"
     },
     "output_type": "display_data"
    }
   ],
   "source": [
    "fig = plt.figure(figsize=(6,6)) # define plot area and size it\n",
    "ax = fig.gca() # define axis \n",
    "\n",
    "\n",
    "plt.plot([0,1,2,3,4], label='y = x')\n",
    "plt.plot([0,2,4,6,8], label='y = 2x')\n",
    "plt.plot([0,3,6,9,12], label='y = 3x')\n",
    "\n",
    "plt.title('Three Straight Lines')\n",
    "plt.ylabel('Y Axis')\n",
    "plt.xlabel('X Axis')\n",
    "plt.legend(loc = 'best')\n",
    "plt.show()"
   ]
  },
  {
   "cell_type": "code",
   "execution_count": 105,
   "metadata": {
    "scrolled": true
   },
   "outputs": [
    {
     "data": {
      "image/png": "[encoded data removed]",
      "text/plain": [
       "<Figure size 432x288 with 1 Axes>"
      ]
     },
     "metadata": {
      "needs_background": "light"
     },
     "output_type": "display_data"
    }
   ],
   "source": [
    "sns.countplot(x = 'country', data = df);"
   ]
  },
  {
   "cell_type": "markdown",
   "metadata": {},
   "source": [
    "# Group By Country\n",
    "## df.groupby(col1).agg(np.mean)\n",
    "### Find the average across all columns for every unique col1 group"
   ]
  },
  {
   "cell_type": "code",
   "execution_count": 95,
   "metadata": {},
   "outputs": [
    {
     "data": {
      "image/png": "[encoded data removed]",
      "text/plain": [
       "<Figure size 432x288 with 1 Axes>"
      ]
     },
     "metadata": {
      "needs_background": "light"
     },
     "output_type": "display_data"
    }
   ],
   "source": [
    "# 1e10 is 10,000,000,000\n",
    "\n",
    "df.groupby('country')['views'].agg('sum').plot(kind='barh',title='Group-By Country')\n",
    "\n",
    "plt.xlabel('Views');"
   ]
  },
  {
   "cell_type": "code",
   "execution_count": 109,
   "metadata": {
    "scrolled": true
   },
   "outputs": [
    {
     "data": {
      "image/png": "[encoded data removed]",
      "text/plain": [
       "<Figure size 432x288 with 1 Axes>"
      ]
     },
     "metadata": {
      "needs_background": "light"
     },
     "output_type": "display_data"
    }
   ],
   "source": [
    "# Graph of viewship base on the Top four counrty\n",
    "# In ascending order of rank France, Mexico, and Russia   \n",
    "# 1e10 is 10,000,000,000\n",
    "\n",
    "# US - United States\n",
    "# IN - India\n",
    "# CA - Canada\n",
    "# GB - United Kingdom of Great Britain and Northern Ireland:\n",
    "#  made up of the following nations England, Scotland, Wales and Northern Ireland\n",
    "\n",
    "\n",
    "top4 = df.groupby(['country']).agg({'views':['sum']})\n",
    "top4 = top4.sort_values(('views', 'sum'), ascending = False).head(4).plot(kind='barh',title='Top 4 Countries');\n",
    "\n",
    "plt.legend(loc = 'best')\n",
    "plt.xlabel('views')\n",
    "plt.show()"
   ]
  },
  {
   "cell_type": "markdown",
   "metadata": {},
   "source": [
    "## Group By Categories"
   ]
  },
  {
   "cell_type": "code",
   "execution_count": 91,
   "metadata": {
    "scrolled": true
   },
   "outputs": [
    {
     "data": {
      "image/png": "[encoded data removed]",
      "text/plain": [
       "<Figure size 432x288 with 1 Axes>"
      ]
     },
     "metadata": {
      "needs_background": "light"
     },
     "output_type": "display_data"
    }
   ],
   "source": [
    "# Graph of all categories by views\n",
    "\n",
    "df.groupby('category')['views'].agg('sum').plot(kind='barh',title='Group-By Categories')\n",
    "plt.xlabel('views');"
   ]
  },
  {
   "cell_type": "code",
   "execution_count": 106,
   "metadata": {},
   "outputs": [
    {
     "data": {
      "image/png": "[encoded data removed]",
      "text/plain": [
       "<Figure size 432x288 with 1 Axes>"
      ]
     },
     "metadata": {
      "needs_background": "light"
     },
     "output_type": "display_data"
    }
   ],
   "source": [
    "# Graph of the categories most viewed\n",
    "# Highest 5 categories\n",
    "# I was curious to find out where sports ranked among all countries\n",
    "\n",
    "top5 = df.groupby(['category']).agg({'views':['sum']})\n",
    "top5 = top5.sort_values(('views', 'sum'), ascending = False).head(5).plot(kind='barh',title='Top 5 Categories');\n",
    "\n",
    "plt.legend(loc = 'best')\n",
    "plt.xlabel('views')\n",
    "plt.show()"
   ]
  },
  {
   "cell_type": "code",
   "execution_count": 107,
   "metadata": {},
   "outputs": [
    {
     "data": {
      "image/png": "[encoded data removed]",
      "text/plain": [
       "<Figure size 432x288 with 1 Axes>"
      ]
     },
     "metadata": {
      "needs_background": "light"
     },
     "output_type": "display_data"
    }
   ],
   "source": [
    "top4 = df.groupby(['category']).agg({'views':['sum']})\n",
    "top4 = top4.sort_values(('views', 'sum'), ascending = False).head(4).plot(kind='barh',title='Top 4 Categories');\n",
    "\n",
    "plt.legend(loc = 'best')\n",
    "plt.xlabel('views')\n",
    "plt.show()"
   ]
  },
  {
   "cell_type": "code",
   "execution_count": 108,
   "metadata": {
    "scrolled": true
   },
   "outputs": [
    {
     "data": {
      "image/png": "[encoded data removed]",
      "text/plain": [
       "<Figure size 432x288 with 1 Axes>"
      ]
     },
     "metadata": {
      "needs_background": "light"
     },
     "output_type": "display_data"
    }
   ],
   "source": [
    "# Graph of the categories most viewed\n",
    "# Highest three categories\n",
    "\n",
    "top3 = df.groupby(['category']).agg({'views':['sum']})\n",
    "top3 = top3.sort_values(('views', 'sum'), ascending = False).head(3).plot(kind='barh',title='Top 3 Categories');\n",
    "\n",
    "plt.legend(loc = 'best')\n",
    "plt.xlabel('views')\n",
    "plt.show()"
   ]
  },
  {
   "cell_type": "markdown",
   "metadata": {},
   "source": [
    "## Country and Category"
   ]
  },
  {
   "cell_type": "code",
   "execution_count": 116,
   "metadata": {},
   "outputs": [
    {
     "data": {
      "image/png": "[encoded data removed]",
      "text/plain": [
       "<Figure size 432x288 with 1 Axes>"
      ]
     },
     "metadata": {
      "needs_background": "light"
     },
     "output_type": "display_data"
    }
   ],
   "source": [
    "# Using SUM\n",
    "\n",
    "FRMXRU = df[df['country'].isin(['US', 'IN', 'CA', 'GB'])]\n",
    "top5 = FRMXRU.groupby(['country','category']).agg({'views':['sum']})\n",
    "top5 = top5.sort_values(('views', 'sum'), ascending = False).head(5).plot(kind='barh', title='Group-By Categories');\n",
    "\n",
    "plt.legend(loc = 'best')\n",
    "plt.ylabel(\"Country, Category\")\n",
    "plt.xlabel('Views')\n",
    "plt.show()"
   ]
  },
  {
   "cell_type": "code",
   "execution_count": 111,
   "metadata": {
    "scrolled": true
   },
   "outputs": [
    {
     "data": {
      "image/png": "[encoded data removed]",
      "text/plain": [
       "<Figure size 432x288 with 1 Axes>"
      ]
     },
     "metadata": {
      "needs_background": "light"
     },
     "output_type": "display_data"
    }
   ],
   "source": [
    "# Using SUM\n",
    "\n",
    "FRMXRU = df[df['country'].isin(['FR', 'MX', 'RU'])]\n",
    "top3 = FRMXRU.groupby(['country','category']).agg({'views':['sum']})\n",
    "top3 = top3.sort_values(('views', 'sum'), ascending = False).head(3).plot(kind='barh', title='Group-By Categories');\n",
    "\n",
    "plt.legend(loc = 'best')\n",
    "plt.ylabel(\"Country, Category\")\n",
    "plt.xlabel('Views')\n",
    "plt.show()"
   ]
  },
  {
   "cell_type": "code",
   "execution_count": 49,
   "metadata": {
    "scrolled": true
   },
   "outputs": [
    {
     "data": {
      "image/png": "[encoded data removed]",
      "text/plain": [
       "<Figure size 432x288 with 1 Axes>"
      ]
     },
     "metadata": {
      "needs_background": "light"
     },
     "output_type": "display_data"
    }
   ],
   "source": [
    "# Using COUNT\n",
    "# Counts the number of rows\n",
    "\n",
    "FRMXRU = df[df['country'].isin(['FR', 'MX', 'RU'])]\n",
    "top3 = FRMXRU.groupby(['country','category']).agg({'views':['count']})\n",
    "top3 = top3.sort_values(('views', 'count'), ascending = False).head(3).plot(kind='barh', title='Group-By Categories');\n",
    "\n",
    "plt.legend(loc = 'best')\n",
    "plt.ylabel(\"Country, Category\")\n",
    "plt.xlabel('Views')\n",
    "plt.show()"
   ]
  },
  {
   "cell_type": "markdown",
   "metadata": {},
   "source": [
    "## Individual Countries"
   ]
  },
  {
   "cell_type": "code",
   "execution_count": 75,
   "metadata": {},
   "outputs": [
    {
     "data": {
      "image/png": "[encoded data removed]",
      "text/plain": [
       "<Figure size 432x288 with 1 Axes>"
      ]
     },
     "metadata": {
      "needs_background": "light"
     },
     "output_type": "display_data"
    }
   ],
   "source": [
    "FRMXRU = df[df['country'].isin(['RU'])]\n",
    "top3 = FRMXRU.groupby(['country','category']).agg({'views':['count']})\n",
    "top3 = top3.sort_values(('views', 'count'), ascending = False).head(3).plot(kind='barh',facecolor='#0000CD', title='Russia Categories');\n",
    "\n",
    "plt.legend(loc = 'best')\n",
    "plt.xlabel('views')\n",
    "plt.show()"
   ]
  },
  {
   "cell_type": "markdown",
   "metadata": {},
   "source": [
    "### Sample Chart of the three country\n",
    "#### Russia, Mexico and France"
   ]
  },
  {
   "cell_type": "code",
   "execution_count": 20,
   "metadata": {},
   "outputs": [
    {
     "data": {
      "image/png": "[encoded data removed]",
      "text/plain": [
       "<Figure size 432x288 with 1 Axes>"
      ]
     },
     "metadata": {
      "needs_background": "light"
     },
     "output_type": "display_data"
    }
   ],
   "source": [
    "# Graph of the categories most viewed\n",
    "# In order of rank highest rank News & People, People & Blogs, and Entertainment \n",
    "FRMXRU = df[df['country'].isin(['FR', 'MX', 'RU'])]\n",
    "top3 = FRMXRU.groupby(['category', 'country']).agg({'views':['count']})\n",
    "top3 = top3.sort_values(('views', 'count'), ascending = False).head(3).plot(kind='barh',title='Group-By Categories');\n",
    "\n",
    "plt.legend(loc = 'best')\n",
    "plt.xlabel('views')\n",
    "plt.show()"
   ]
  },
  {
   "cell_type": "markdown",
   "metadata": {},
   "source": [
    "# TEST"
   ]
  },
  {
   "cell_type": "code",
   "execution_count": 84,
   "metadata": {},
   "outputs": [
    {
     "data": {
      "image/png": "[encoded data removed]",
      "text/plain": [
       "<Figure size 432x288 with 1 Axes>"
      ]
     },
     "metadata": {
      "needs_background": "light"
     },
     "output_type": "display_data"
    }
   ],
   "source": [
    "top4 = df.groupby(['country']).agg({'views':['sum']})\n",
    "top4 = top4.sort_values(('views', 'sum'), ascending = False).head(4).plot(kind='barh',title='Group-By Country');\n",
    "\n",
    "plt.legend(loc = 'best')\n",
    "plt.xlabel('views')\n",
    "plt.show()"
   ]
  },
  {
   "cell_type": "code",
   "execution_count": 78,
   "metadata": {
    "scrolled": true
   },
   "outputs": [
    {
     "data": {
      "image/png": "[encoded data removed]",
      "text/plain": [
       "<Figure size 432x288 with 1 Axes>"
      ]
     },
     "metadata": {
      "needs_background": "light"
     },
     "output_type": "display_data"
    }
   ],
   "source": [
    "FRMXRU = df[df['country'].isin(['FR', 'MX', 'RU'])]\n",
    "top3 = FRMXRU.groupby(['category', 'country']).agg({'views':['sum']})\n",
    "top3 = top3.sort_values(('views', 'sum'), ascending = False).head(3).plot(kind='barh', facecolor='#E13C00', title='Group-By Categories');\n",
    "\n",
    "\n",
    "plt.legend(loc = 'best')\n",
    "plt.xlabel('views')\n",
    "plt.show()"
   ]
  },
  {
   "cell_type": "code",
   "execution_count": 5,
   "metadata": {},
   "outputs": [
    {
     "ename": "ModuleNotFoundError",
     "evalue": "No module named 'plotly'",
     "output_type": "error",
     "traceback": [
      "\u001b[0;31m--------------------\u001b[0m",
      "\u001b[0;31mModuleNotFoundError\u001b[0mTraceback (most recent call last)",
      "\u001b[0;32m<ipython-input-5-e2f2ad5fca75>\u001b[0m in \u001b[0;36m<module>\u001b[0;34m\u001b[0m\n\u001b[1;32m      1\u001b[0m \u001b[0;31m# Learn about API authentication here: https://plot.ly/pandas/getting-started\u001b[0m\u001b[0;34m\u001b[0m\u001b[0;34m\u001b[0m\u001b[0;34m\u001b[0m\u001b[0m\n\u001b[1;32m      2\u001b[0m \u001b[0;31m# Find your api_key here: https://plot.ly/settings/api\u001b[0m\u001b[0;34m\u001b[0m\u001b[0;34m\u001b[0m\u001b[0;34m\u001b[0m\u001b[0m\n\u001b[0;32m----> 3\u001b[0;31m \u001b[0;32mimport\u001b[0m \u001b[0mplotly\u001b[0m\u001b[0;34m.\u001b[0m\u001b[0mplotly\u001b[0m \u001b[0;32mas\u001b[0m \u001b[0mpy\u001b[0m\u001b[0;34m\u001b[0m\u001b[0;34m\u001b[0m\u001b[0m\n\u001b[0m\u001b[1;32m      4\u001b[0m \u001b[0;32mimport\u001b[0m \u001b[0mplotly\u001b[0m\u001b[0;34m.\u001b[0m\u001b[0mgraph_objs\u001b[0m \u001b[0;32mas\u001b[0m \u001b[0mgo\u001b[0m\u001b[0;34m\u001b[0m\u001b[0;34m\u001b[0m\u001b[0m\n\u001b[1;32m      5\u001b[0m \u001b[0;34m\u001b[0m\u001b[0m\n",
      "\u001b[0;31mModuleNotFoundError\u001b[0m: No module named 'plotly'"
     ]
    }
   ],
   "source": [
    "RU\n",
    "News & Polites\n",
    "People & Blogs\n",
    "Entertainment"
   ]
  },
  {
   "cell_type": "code",
   "execution_count": null,
   "metadata": {},
   "outputs": [],
   "source": []
  },
  {
   "cell_type": "code",
   "execution_count": 20,
   "metadata": {
    "scrolled": true
   },
   "outputs": [
    {
     "ename": "KeyError",
     "evalue": "'X'",
     "output_type": "error",
     "traceback": [
      "\u001b[0;31m--------------------\u001b[0m",
      "\u001b[0;31mKeyError\u001b[0mTraceback (most recent call last)",
      "\u001b[0;32m~/miniconda3/lib/python3.7/site-packages/pandas/core/indexes/base.py\u001b[0m in \u001b[0;36mget_loc\u001b[0;34m(self, key, method, tolerance)\u001b[0m\n\u001b[1;32m   2896\u001b[0m             \u001b[0;32mtry\u001b[0m\u001b[0;34m:\u001b[0m\u001b[0;34m\u001b[0m\u001b[0;34m\u001b[0m\u001b[0m\n\u001b[0;32m-> 2897\u001b[0;31m                 \u001b[0;32mreturn\u001b[0m \u001b[0mself\u001b[0m\u001b[0;34m.\u001b[0m\u001b[0m_engine\u001b[0m\u001b[0;34m.\u001b[0m\u001b[0mget_loc\u001b[0m\u001b[0;34m(\u001b[0m\u001b[0mkey\u001b[0m\u001b[0;34m)\u001b[0m\u001b[0;34m\u001b[0m\u001b[0;34m\u001b[0m\u001b[0m\n\u001b[0m\u001b[1;32m   2898\u001b[0m             \u001b[0;32mexcept\u001b[0m \u001b[0mKeyError\u001b[0m\u001b[0;34m:\u001b[0m\u001b[0;34m\u001b[0m\u001b[0;34m\u001b[0m\u001b[0m\n",
      "\u001b[0;32mpandas/_libs/index.pyx\u001b[0m in \u001b[0;36mpandas._libs.index.IndexEngine.get_loc\u001b[0;34m()\u001b[0m\n",
      "\u001b[0;32mpandas/_libs/index.pyx\u001b[0m in \u001b[0;36mpandas._libs.index.IndexEngine.get_loc\u001b[0;34m()\u001b[0m\n",
      "\u001b[0;32mpandas/_libs/hashtable_class_helper.pxi\u001b[0m in \u001b[0;36mpandas._libs.hashtable.PyObjectHashTable.get_item\u001b[0;34m()\u001b[0m\n",
      "\u001b[0;32mpandas/_libs/hashtable_class_helper.pxi\u001b[0m in \u001b[0;36mpandas._libs.hashtable.PyObjectHashTable.get_item\u001b[0;34m()\u001b[0m\n",
      "\u001b[0;31mKeyError\u001b[0m: 'X'",
      "\nDuring handling of the above exception, another exception occurred:\n",
      "\u001b[0;31mKeyError\u001b[0mTraceback (most recent call last)",
      "\u001b[0;32m<ipython-input-20-48dc8684065e>\u001b[0m in \u001b[0;36m<module>\u001b[0;34m\u001b[0m\n\u001b[0;32m----> 1\u001b[0;31m \u001b[0mdf\u001b[0m\u001b[0;34m.\u001b[0m\u001b[0mplot\u001b[0m\u001b[0;34m(\u001b[0m\u001b[0mx\u001b[0m\u001b[0;34m=\u001b[0m\u001b[0;34m\"X\"\u001b[0m\u001b[0;34m,\u001b[0m \u001b[0my\u001b[0m\u001b[0;34m=\u001b[0m\u001b[0;34m[\u001b[0m\u001b[0;34m'top3'\u001b[0m\u001b[0;34m]\u001b[0m\u001b[0;34m,\u001b[0m \u001b[0mkind\u001b[0m\u001b[0;34m=\u001b[0m\u001b[0;34m\"bar\"\u001b[0m\u001b[0;34m)\u001b[0m\u001b[0;34m\u001b[0m\u001b[0;34m\u001b[0m\u001b[0m\n\u001b[0m",
      "\u001b[0;32m~/miniconda3/lib/python3.7/site-packages/pandas/plotting/_core.py\u001b[0m in \u001b[0;36m__call__\u001b[0;34m(self, *args, **kwargs)\u001b[0m\n\u001b[1;32m    757\u001b[0m                 \u001b[0;32mif\u001b[0m \u001b[0mis_integer\u001b[0m\u001b[0;34m(\u001b[0m\u001b[0mx\u001b[0m\u001b[0;34m)\u001b[0m \u001b[0;32mand\u001b[0m \u001b[0;32mnot\u001b[0m \u001b[0mdata\u001b[0m\u001b[0;34m.\u001b[0m\u001b[0mcolumns\u001b[0m\u001b[0;34m.\u001b[0m\u001b[0mholds_integer\u001b[0m\u001b[0;34m(\u001b[0m\u001b[0;34m)\u001b[0m\u001b[0;34m:\u001b[0m\u001b[0;34m\u001b[0m\u001b[0;34m\u001b[0m\u001b[0m\n\u001b[1;32m    758\u001b[0m                     \u001b[0mx\u001b[0m \u001b[0;34m=\u001b[0m \u001b[0mdata_cols\u001b[0m\u001b[0;34m[\u001b[0m\u001b[0mx\u001b[0m\u001b[0;34m]\u001b[0m\u001b[0;34m\u001b[0m\u001b[0;34m\u001b[0m\u001b[0m\n\u001b[0;32m--> 759\u001b[0;31m                 \u001b[0;32melif\u001b[0m \u001b[0;32mnot\u001b[0m \u001b[0misinstance\u001b[0m\u001b[0;34m(\u001b[0m\u001b[0mdata\u001b[0m\u001b[0;34m[\u001b[0m\u001b[0mx\u001b[0m\u001b[0;34m]\u001b[0m\u001b[0;34m,\u001b[0m \u001b[0mABCSeries\u001b[0m\u001b[0;34m)\u001b[0m\u001b[0;34m:\u001b[0m\u001b[0;34m\u001b[0m\u001b[0;34m\u001b[0m\u001b[0m\n\u001b[0m\u001b[1;32m    760\u001b[0m                     \u001b[0;32mraise\u001b[0m \u001b[0mValueError\u001b[0m\u001b[0;34m(\u001b[0m\u001b[0;34m\"x must be a label or position\"\u001b[0m\u001b[0;34m)\u001b[0m\u001b[0;34m\u001b[0m\u001b[0;34m\u001b[0m\u001b[0m\n\u001b[1;32m    761\u001b[0m                 \u001b[0mdata\u001b[0m \u001b[0;34m=\u001b[0m \u001b[0mdata\u001b[0m\u001b[0;34m.\u001b[0m\u001b[0mset_index\u001b[0m\u001b[0;34m(\u001b[0m\u001b[0mx\u001b[0m\u001b[0;34m)\u001b[0m\u001b[0;34m\u001b[0m\u001b[0;34m\u001b[0m\u001b[0m\n",
      "\u001b[0;32m~/miniconda3/lib/python3.7/site-packages/pandas/core/frame.py\u001b[0m in \u001b[0;36m__getitem__\u001b[0;34m(self, key)\u001b[0m\n\u001b[1;32m   2978\u001b[0m             \u001b[0;32mif\u001b[0m \u001b[0mself\u001b[0m\u001b[0;34m.\u001b[0m\u001b[0mcolumns\u001b[0m\u001b[0;34m.\u001b[0m\u001b[0mnlevels\u001b[0m \u001b[0;34m>\u001b[0m \u001b[0;36m1\u001b[0m\u001b[0;34m:\u001b[0m\u001b[0;34m\u001b[0m\u001b[0;34m\u001b[0m\u001b[0m\n\u001b[1;32m   2979\u001b[0m                 \u001b[0;32mreturn\u001b[0m \u001b[0mself\u001b[0m\u001b[0;34m.\u001b[0m\u001b[0m_getitem_multilevel\u001b[0m\u001b[0;34m(\u001b[0m\u001b[0mkey\u001b[0m\u001b[0;34m)\u001b[0m\u001b[0;34m\u001b[0m\u001b[0;34m\u001b[0m\u001b[0m\n\u001b[0;32m-> 2980\u001b[0;31m             \u001b[0mindexer\u001b[0m \u001b[0;34m=\u001b[0m \u001b[0mself\u001b[0m\u001b[0;34m.\u001b[0m\u001b[0mcolumns\u001b[0m\u001b[0;34m.\u001b[0m\u001b[0mget_loc\u001b[0m\u001b[0;34m(\u001b[0m\u001b[0mkey\u001b[0m\u001b[0;34m)\u001b[0m\u001b[0;34m\u001b[0m\u001b[0;34m\u001b[0m\u001b[0m\n\u001b[0m\u001b[1;32m   2981\u001b[0m             \u001b[0;32mif\u001b[0m \u001b[0mis_integer\u001b[0m\u001b[0;34m(\u001b[0m\u001b[0mindexer\u001b[0m\u001b[0;34m)\u001b[0m\u001b[0;34m:\u001b[0m\u001b[0;34m\u001b[0m\u001b[0;34m\u001b[0m\u001b[0m\n\u001b[1;32m   2982\u001b[0m                 \u001b[0mindexer\u001b[0m \u001b[0;34m=\u001b[0m \u001b[0;34m[\u001b[0m\u001b[0mindexer\u001b[0m\u001b[0;34m]\u001b[0m\u001b[0;34m\u001b[0m\u001b[0;34m\u001b[0m\u001b[0m\n",
      "\u001b[0;32m~/miniconda3/lib/python3.7/site-packages/pandas/core/indexes/base.py\u001b[0m in \u001b[0;36mget_loc\u001b[0;34m(self, key, method, tolerance)\u001b[0m\n\u001b[1;32m   2897\u001b[0m                 \u001b[0;32mreturn\u001b[0m \u001b[0mself\u001b[0m\u001b[0;34m.\u001b[0m\u001b[0m_engine\u001b[0m\u001b[0;34m.\u001b[0m\u001b[0mget_loc\u001b[0m\u001b[0;34m(\u001b[0m\u001b[0mkey\u001b[0m\u001b[0;34m)\u001b[0m\u001b[0;34m\u001b[0m\u001b[0;34m\u001b[0m\u001b[0m\n\u001b[1;32m   2898\u001b[0m             \u001b[0;32mexcept\u001b[0m \u001b[0mKeyError\u001b[0m\u001b[0;34m:\u001b[0m\u001b[0;34m\u001b[0m\u001b[0;34m\u001b[0m\u001b[0m\n\u001b[0;32m-> 2899\u001b[0;31m                 \u001b[0;32mreturn\u001b[0m \u001b[0mself\u001b[0m\u001b[0;34m.\u001b[0m\u001b[0m_engine\u001b[0m\u001b[0;34m.\u001b[0m\u001b[0mget_loc\u001b[0m\u001b[0;34m(\u001b[0m\u001b[0mself\u001b[0m\u001b[0;34m.\u001b[0m\u001b[0m_maybe_cast_indexer\u001b[0m\u001b[0;34m(\u001b[0m\u001b[0mkey\u001b[0m\u001b[0;34m)\u001b[0m\u001b[0;34m)\u001b[0m\u001b[0;34m\u001b[0m\u001b[0;34m\u001b[0m\u001b[0m\n\u001b[0m\u001b[1;32m   2900\u001b[0m         \u001b[0mindexer\u001b[0m \u001b[0;34m=\u001b[0m \u001b[0mself\u001b[0m\u001b[0;34m.\u001b[0m\u001b[0mget_indexer\u001b[0m\u001b[0;34m(\u001b[0m\u001b[0;34m[\u001b[0m\u001b[0mkey\u001b[0m\u001b[0;34m]\u001b[0m\u001b[0;34m,\u001b[0m \u001b[0mmethod\u001b[0m\u001b[0;34m=\u001b[0m\u001b[0mmethod\u001b[0m\u001b[0;34m,\u001b[0m \u001b[0mtolerance\u001b[0m\u001b[0;34m=\u001b[0m\u001b[0mtolerance\u001b[0m\u001b[0;34m)\u001b[0m\u001b[0;34m\u001b[0m\u001b[0;34m\u001b[0m\u001b[0m\n\u001b[1;32m   2901\u001b[0m         \u001b[0;32mif\u001b[0m \u001b[0mindexer\u001b[0m\u001b[0;34m.\u001b[0m\u001b[0mndim\u001b[0m \u001b[0;34m>\u001b[0m \u001b[0;36m1\u001b[0m \u001b[0;32mor\u001b[0m \u001b[0mindexer\u001b[0m\u001b[0;34m.\u001b[0m\u001b[0msize\u001b[0m \u001b[0;34m>\u001b[0m \u001b[0;36m1\u001b[0m\u001b[0;34m:\u001b[0m\u001b[0;34m\u001b[0m\u001b[0;34m\u001b[0m\u001b[0m\n",
      "\u001b[0;32mpandas/_libs/index.pyx\u001b[0m in \u001b[0;36mpandas._libs.index.IndexEngine.get_loc\u001b[0;34m()\u001b[0m\n",
      "\u001b[0;32mpandas/_libs/index.pyx\u001b[0m in \u001b[0;36mpandas._libs.index.IndexEngine.get_loc\u001b[0;34m()\u001b[0m\n",
      "\u001b[0;32mpandas/_libs/hashtable_class_helper.pxi\u001b[0m in \u001b[0;36mpandas._libs.hashtable.PyObjectHashTable.get_item\u001b[0;34m()\u001b[0m\n",
      "\u001b[0;32mpandas/_libs/hashtable_class_helper.pxi\u001b[0m in \u001b[0;36mpandas._libs.hashtable.PyObjectHashTable.get_item\u001b[0;34m()\u001b[0m\n",
      "\u001b[0;31mKeyError\u001b[0m: 'X'"
     ]
    }
   ],
   "source": [
    "df.plot(x=\"X\", y=['top3'], kind=\"bar\")"
   ]
  },
  {
   "cell_type": "code",
   "execution_count": 31,
   "metadata": {},
   "outputs": [
    {
     "ename": "TypeError",
     "evalue": "bar() missing 2 required positional arguments: 'x' and 'height'",
     "output_type": "error",
     "traceback": [
      "\u001b[0;31m--------------------\u001b[0m",
      "\u001b[0;31mTypeError\u001b[0mTraceback (most recent call last)",
      "\u001b[0;32m<ipython-input-31-2e229944fd15>\u001b[0m in \u001b[0;36m<module>\u001b[0;34m\u001b[0m\n\u001b[1;32m      1\u001b[0m \u001b[0;31m# plot data\u001b[0m\u001b[0;34m\u001b[0m\u001b[0;34m\u001b[0m\u001b[0;34m\u001b[0m\u001b[0m\n\u001b[0;32m----> 2\u001b[0;31m \u001b[0mfig\u001b[0m\u001b[0;34m,\u001b[0m \u001b[0max\u001b[0m \u001b[0;34m=\u001b[0m \u001b[0mplt\u001b[0m\u001b[0;34m.\u001b[0m\u001b[0mbar\u001b[0m\u001b[0;34m(\u001b[0m\u001b[0mfigsize\u001b[0m\u001b[0;34m=\u001b[0m\u001b[0;34m(\u001b[0m\u001b[0;36m15\u001b[0m\u001b[0;34m,\u001b[0m\u001b[0;36m7\u001b[0m\u001b[0;34m)\u001b[0m\u001b[0;34m)\u001b[0m\u001b[0;34m\u001b[0m\u001b[0;34m\u001b[0m\u001b[0m\n\u001b[0m\u001b[1;32m      3\u001b[0m \u001b[0;31m# use unstack()\u001b[0m\u001b[0;34m\u001b[0m\u001b[0;34m\u001b[0m\u001b[0;34m\u001b[0m\u001b[0m\n\u001b[1;32m      4\u001b[0m \u001b[0mtop3\u001b[0m\u001b[0;34m.\u001b[0m\u001b[0mgroupby\u001b[0m\u001b[0;34m(\u001b[0m\u001b[0;34m[\u001b[0m\u001b[0;34m'country'\u001b[0m\u001b[0;34m,\u001b[0m\u001b[0;34m'views'\u001b[0m\u001b[0;34m]\u001b[0m\u001b[0;34m)\u001b[0m\u001b[0;34m.\u001b[0m\u001b[0mcount\u001b[0m\u001b[0;34m(\u001b[0m\u001b[0;34m)\u001b[0m\u001b[0;34m[\u001b[0m\u001b[0;34m'amount'\u001b[0m\u001b[0;34m]\u001b[0m\u001b[0;34m.\u001b[0m\u001b[0munstack\u001b[0m\u001b[0;34m(\u001b[0m\u001b[0;34m)\u001b[0m\u001b[0;34m.\u001b[0m\u001b[0mplot\u001b[0m\u001b[0;34m(\u001b[0m\u001b[0max\u001b[0m\u001b[0;34m=\u001b[0m\u001b[0max\u001b[0m\u001b[0;34m)\u001b[0m\u001b[0;34m\u001b[0m\u001b[0;34m\u001b[0m\u001b[0m\n",
      "\u001b[0;31mTypeError\u001b[0m: bar() missing 2 required positional arguments: 'x' and 'height'"
     ]
    }
   ],
   "source": [
    "# plot data\n",
    "fig, ax = plt.bar(figsize=(15,7))\n",
    "# use unstack()\n",
    "top3.groupby(['country','views']).count()['amount'].unstack().plot(ax=ax)\n"
   ]
  },
  {
   "cell_type": "code",
   "execution_count": null,
   "metadata": {},
   "outputs": [],
   "source": [
    "# Change the default figure size\n",
    "plt.figure(figsize=(6,6))\n",
    "\n",
    "\n",
    "ax = fig.gca() # define axis \n",
    "\n",
    "x = df.country\n",
    "y = df.views\n",
    "\n",
    "plt.title('Country Vs. Views')\n",
    "plt.scatter(x, y);\n",
    "plt.show()\n"
   ]
  },
  {
   "cell_type": "code",
   "execution_count": null,
   "metadata": {},
   "outputs": [],
   "source": []
  },
  {
   "cell_type": "code",
   "execution_count": null,
   "metadata": {},
   "outputs": [],
   "source": [
    "# Russia, Mexico and France\n",
    "df.loc[['country'] == 'RU']"
   ]
  },
  {
   "cell_type": "code",
   "execution_count": 29,
   "metadata": {},
   "outputs": [
    {
     "ename": "SyntaxError",
     "evalue": "unexpected EOF while parsing (<ipython-input-29-559cc8f996d4>, line 4)",
     "output_type": "error",
     "traceback": [
      "\u001b[0;36m  File \u001b[0;32m\"<ipython-input-29-559cc8f996d4>\"\u001b[0;36m, line \u001b[0;32m4\u001b[0m\n\u001b[0;31m    \u001b[0m\n\u001b[0m    ^\u001b[0m\n\u001b[0;31mSyntaxError\u001b[0m\u001b[0;31m:\u001b[0m unexpected EOF while parsing\n"
     ]
    }
   ],
   "source": [
    " # Russia, Mexico and France\n",
    "\n",
    "df = {'country': ['RU', 'MX', 'FR']\n",
    "     "
   ]
  },
  {
   "cell_type": "code",
   "execution_count": 28,
   "metadata": {},
   "outputs": [
    {
     "ename": "SyntaxError",
     "evalue": "unexpected EOF while parsing (<ipython-input-28-0b1bc5265aea>, line 1)",
     "output_type": "error",
     "traceback": [
      "\u001b[0;36m  File \u001b[0;32m\"<ipython-input-28-0b1bc5265aea>\"\u001b[0;36m, line \u001b[0;32m1\u001b[0m\n\u001b[0;31m    top3 = [df ['country'.isin['RU', 'MX', 'FR']]\u001b[0m\n\u001b[0m                                                 ^\u001b[0m\n\u001b[0;31mSyntaxError\u001b[0m\u001b[0;31m:\u001b[0m unexpected EOF while parsing\n"
     ]
    }
   ],
   "source": [
    "top3 = [df ['country'.isin['RU', 'MX', 'FR']]"
   ]
  },
  {
   "cell_type": "code",
   "execution_count": 27,
   "metadata": {},
   "outputs": [
    {
     "data": {
      "text/html": [
       "<div>\n",
       "<style scoped>\n",
       "    .dataframe tbody tr th:only-of-type {\n",
       "        vertical-align: middle;\n",
       "    }\n",
       "\n",
       "    .dataframe tbody tr th {\n",
       "        vertical-align: top;\n",
       "    }\n",
       "\n",
       "    .dataframe thead th {\n",
       "        text-align: right;\n",
       "    }\n",
       "</style>\n",
       "<table border=\"1\" class=\"dataframe\">\n",
       "  <thead>\n",
       "    <tr style=\"text-align: right;\">\n",
       "      <th></th>\n",
       "      <th>video_id</th>\n",
       "      <th>trending_date</th>\n",
       "      <th>title</th>\n",
       "      <th>channel_title</th>\n",
       "      <th>category_id</th>\n",
       "      <th>category</th>\n",
       "      <th>publish_date</th>\n",
       "      <th>publish_time</th>\n",
       "      <th>tags</th>\n",
       "      <th>views</th>\n",
       "      <th>likes</th>\n",
       "      <th>dislikes</th>\n",
       "      <th>comment_count</th>\n",
       "      <th>thumbnail_link</th>\n",
       "      <th>comments_disabled</th>\n",
       "      <th>ratings_disabled</th>\n",
       "      <th>video_error_or_removed</th>\n",
       "      <th>description</th>\n",
       "      <th>country</th>\n",
       "    </tr>\n",
       "  </thead>\n",
       "  <tbody>\n",
       "    <tr>\n",
       "      <td>0</td>\n",
       "      <td>NaN</td>\n",
       "      <td>NaN</td>\n",
       "      <td>NaN</td>\n",
       "      <td>NaN</td>\n",
       "      <td>NaN</td>\n",
       "      <td>NaN</td>\n",
       "      <td>NaN</td>\n",
       "      <td>NaN</td>\n",
       "      <td>NaN</td>\n",
       "      <td>NaN</td>\n",
       "      <td>NaN</td>\n",
       "      <td>NaN</td>\n",
       "      <td>NaN</td>\n",
       "      <td>NaN</td>\n",
       "      <td>NaN</td>\n",
       "      <td>NaN</td>\n",
       "      <td>NaN</td>\n",
       "      <td>NaN</td>\n",
       "      <td>FR</td>\n",
       "    </tr>\n",
       "    <tr>\n",
       "      <td>1</td>\n",
       "      <td>NaN</td>\n",
       "      <td>NaN</td>\n",
       "      <td>NaN</td>\n",
       "      <td>NaN</td>\n",
       "      <td>NaN</td>\n",
       "      <td>NaN</td>\n",
       "      <td>NaN</td>\n",
       "      <td>NaN</td>\n",
       "      <td>NaN</td>\n",
       "      <td>NaN</td>\n",
       "      <td>NaN</td>\n",
       "      <td>NaN</td>\n",
       "      <td>NaN</td>\n",
       "      <td>NaN</td>\n",
       "      <td>NaN</td>\n",
       "      <td>NaN</td>\n",
       "      <td>NaN</td>\n",
       "      <td>NaN</td>\n",
       "      <td>FR</td>\n",
       "    </tr>\n",
       "    <tr>\n",
       "      <td>2</td>\n",
       "      <td>NaN</td>\n",
       "      <td>NaN</td>\n",
       "      <td>NaN</td>\n",
       "      <td>NaN</td>\n",
       "      <td>NaN</td>\n",
       "      <td>NaN</td>\n",
       "      <td>NaN</td>\n",
       "      <td>NaN</td>\n",
       "      <td>NaN</td>\n",
       "      <td>NaN</td>\n",
       "      <td>NaN</td>\n",
       "      <td>NaN</td>\n",
       "      <td>NaN</td>\n",
       "      <td>NaN</td>\n",
       "      <td>NaN</td>\n",
       "      <td>NaN</td>\n",
       "      <td>NaN</td>\n",
       "      <td>NaN</td>\n",
       "      <td>FR</td>\n",
       "    </tr>\n",
       "    <tr>\n",
       "      <td>3</td>\n",
       "      <td>NaN</td>\n",
       "      <td>NaN</td>\n",
       "      <td>NaN</td>\n",
       "      <td>NaN</td>\n",
       "      <td>NaN</td>\n",
       "      <td>NaN</td>\n",
       "      <td>NaN</td>\n",
       "      <td>NaN</td>\n",
       "      <td>NaN</td>\n",
       "      <td>NaN</td>\n",
       "      <td>NaN</td>\n",
       "      <td>NaN</td>\n",
       "      <td>NaN</td>\n",
       "      <td>NaN</td>\n",
       "      <td>NaN</td>\n",
       "      <td>NaN</td>\n",
       "      <td>NaN</td>\n",
       "      <td>NaN</td>\n",
       "      <td>FR</td>\n",
       "    </tr>\n",
       "    <tr>\n",
       "      <td>4</td>\n",
       "      <td>NaN</td>\n",
       "      <td>NaN</td>\n",
       "      <td>NaN</td>\n",
       "      <td>NaN</td>\n",
       "      <td>NaN</td>\n",
       "      <td>NaN</td>\n",
       "      <td>NaN</td>\n",
       "      <td>NaN</td>\n",
       "      <td>NaN</td>\n",
       "      <td>NaN</td>\n",
       "      <td>NaN</td>\n",
       "      <td>NaN</td>\n",
       "      <td>NaN</td>\n",
       "      <td>NaN</td>\n",
       "      <td>NaN</td>\n",
       "      <td>NaN</td>\n",
       "      <td>NaN</td>\n",
       "      <td>NaN</td>\n",
       "      <td>FR</td>\n",
       "    </tr>\n",
       "    <tr>\n",
       "      <td>...</td>\n",
       "      <td>...</td>\n",
       "      <td>...</td>\n",
       "      <td>...</td>\n",
       "      <td>...</td>\n",
       "      <td>...</td>\n",
       "      <td>...</td>\n",
       "      <td>...</td>\n",
       "      <td>...</td>\n",
       "      <td>...</td>\n",
       "      <td>...</td>\n",
       "      <td>...</td>\n",
       "      <td>...</td>\n",
       "      <td>...</td>\n",
       "      <td>...</td>\n",
       "      <td>...</td>\n",
       "      <td>...</td>\n",
       "      <td>...</td>\n",
       "      <td>...</td>\n",
       "      <td>...</td>\n",
       "    </tr>\n",
       "    <tr>\n",
       "      <td>171144</td>\n",
       "      <td>NaN</td>\n",
       "      <td>NaN</td>\n",
       "      <td>NaN</td>\n",
       "      <td>NaN</td>\n",
       "      <td>NaN</td>\n",
       "      <td>NaN</td>\n",
       "      <td>NaN</td>\n",
       "      <td>NaN</td>\n",
       "      <td>NaN</td>\n",
       "      <td>NaN</td>\n",
       "      <td>NaN</td>\n",
       "      <td>NaN</td>\n",
       "      <td>NaN</td>\n",
       "      <td>NaN</td>\n",
       "      <td>NaN</td>\n",
       "      <td>NaN</td>\n",
       "      <td>NaN</td>\n",
       "      <td>NaN</td>\n",
       "      <td>NaN</td>\n",
       "    </tr>\n",
       "    <tr>\n",
       "      <td>171145</td>\n",
       "      <td>NaN</td>\n",
       "      <td>NaN</td>\n",
       "      <td>NaN</td>\n",
       "      <td>NaN</td>\n",
       "      <td>NaN</td>\n",
       "      <td>NaN</td>\n",
       "      <td>NaN</td>\n",
       "      <td>NaN</td>\n",
       "      <td>NaN</td>\n",
       "      <td>NaN</td>\n",
       "      <td>NaN</td>\n",
       "      <td>NaN</td>\n",
       "      <td>NaN</td>\n",
       "      <td>NaN</td>\n",
       "      <td>NaN</td>\n",
       "      <td>NaN</td>\n",
       "      <td>NaN</td>\n",
       "      <td>NaN</td>\n",
       "      <td>NaN</td>\n",
       "    </tr>\n",
       "    <tr>\n",
       "      <td>171146</td>\n",
       "      <td>NaN</td>\n",
       "      <td>NaN</td>\n",
       "      <td>NaN</td>\n",
       "      <td>NaN</td>\n",
       "      <td>NaN</td>\n",
       "      <td>NaN</td>\n",
       "      <td>NaN</td>\n",
       "      <td>NaN</td>\n",
       "      <td>NaN</td>\n",
       "      <td>NaN</td>\n",
       "      <td>NaN</td>\n",
       "      <td>NaN</td>\n",
       "      <td>NaN</td>\n",
       "      <td>NaN</td>\n",
       "      <td>NaN</td>\n",
       "      <td>NaN</td>\n",
       "      <td>NaN</td>\n",
       "      <td>NaN</td>\n",
       "      <td>NaN</td>\n",
       "    </tr>\n",
       "    <tr>\n",
       "      <td>171147</td>\n",
       "      <td>NaN</td>\n",
       "      <td>NaN</td>\n",
       "      <td>NaN</td>\n",
       "      <td>NaN</td>\n",
       "      <td>NaN</td>\n",
       "      <td>NaN</td>\n",
       "      <td>NaN</td>\n",
       "      <td>NaN</td>\n",
       "      <td>NaN</td>\n",
       "      <td>NaN</td>\n",
       "      <td>NaN</td>\n",
       "      <td>NaN</td>\n",
       "      <td>NaN</td>\n",
       "      <td>NaN</td>\n",
       "      <td>NaN</td>\n",
       "      <td>NaN</td>\n",
       "      <td>NaN</td>\n",
       "      <td>NaN</td>\n",
       "      <td>NaN</td>\n",
       "    </tr>\n",
       "    <tr>\n",
       "      <td>171148</td>\n",
       "      <td>NaN</td>\n",
       "      <td>NaN</td>\n",
       "      <td>NaN</td>\n",
       "      <td>NaN</td>\n",
       "      <td>NaN</td>\n",
       "      <td>NaN</td>\n",
       "      <td>NaN</td>\n",
       "      <td>NaN</td>\n",
       "      <td>NaN</td>\n",
       "      <td>NaN</td>\n",
       "      <td>NaN</td>\n",
       "      <td>NaN</td>\n",
       "      <td>NaN</td>\n",
       "      <td>NaN</td>\n",
       "      <td>NaN</td>\n",
       "      <td>NaN</td>\n",
       "      <td>NaN</td>\n",
       "      <td>NaN</td>\n",
       "      <td>NaN</td>\n",
       "    </tr>\n",
       "  </tbody>\n",
       "</table>\n",
       "<p>171149 rows × 19 columns</p>\n",
       "</div>"
      ],
      "text/plain": [
       "       video_id trending_date title channel_title  category_id category  \\\n",
       "0           NaN           NaN   NaN           NaN          NaN      NaN   \n",
       "1           NaN           NaN   NaN           NaN          NaN      NaN   \n",
       "2           NaN           NaN   NaN           NaN          NaN      NaN   \n",
       "3           NaN           NaN   NaN           NaN          NaN      NaN   \n",
       "4           NaN           NaN   NaN           NaN          NaN      NaN   \n",
       "...         ...           ...   ...           ...          ...      ...   \n",
       "171144      NaN           NaN   NaN           NaN          NaN      NaN   \n",
       "171145      NaN           NaN   NaN           NaN          NaN      NaN   \n",
       "171146      NaN           NaN   NaN           NaN          NaN      NaN   \n",
       "171147      NaN           NaN   NaN           NaN          NaN      NaN   \n",
       "171148      NaN           NaN   NaN           NaN          NaN      NaN   \n",
       "\n",
       "       publish_date publish_time tags  views  likes  dislikes  comment_count  \\\n",
       "0               NaN          NaN  NaN    NaN    NaN       NaN            NaN   \n",
       "1               NaN          NaN  NaN    NaN    NaN       NaN            NaN   \n",
       "2               NaN          NaN  NaN    NaN    NaN       NaN            NaN   \n",
       "3               NaN          NaN  NaN    NaN    NaN       NaN            NaN   \n",
       "4               NaN          NaN  NaN    NaN    NaN       NaN            NaN   \n",
       "...             ...          ...  ...    ...    ...       ...            ...   \n",
       "171144          NaN          NaN  NaN    NaN    NaN       NaN            NaN   \n",
       "171145          NaN          NaN  NaN    NaN    NaN       NaN            NaN   \n",
       "171146          NaN          NaN  NaN    NaN    NaN       NaN            NaN   \n",
       "171147          NaN          NaN  NaN    NaN    NaN       NaN            NaN   \n",
       "171148          NaN          NaN  NaN    NaN    NaN       NaN            NaN   \n",
       "\n",
       "       thumbnail_link  comments_disabled  ratings_disabled  \\\n",
       "0                 NaN                NaN               NaN   \n",
       "1                 NaN                NaN               NaN   \n",
       "2                 NaN                NaN               NaN   \n",
       "3                 NaN                NaN               NaN   \n",
       "4                 NaN                NaN               NaN   \n",
       "...               ...                ...               ...   \n",
       "171144            NaN                NaN               NaN   \n",
       "171145            NaN                NaN               NaN   \n",
       "171146            NaN                NaN               NaN   \n",
       "171147            NaN                NaN               NaN   \n",
       "171148            NaN                NaN               NaN   \n",
       "\n",
       "        video_error_or_removed description country  \n",
       "0                          NaN         NaN      FR  \n",
       "1                          NaN         NaN      FR  \n",
       "2                          NaN         NaN      FR  \n",
       "3                          NaN         NaN      FR  \n",
       "4                          NaN         NaN      FR  \n",
       "...                        ...         ...     ...  \n",
       "171144                     NaN         NaN     NaN  \n",
       "171145                     NaN         NaN     NaN  \n",
       "171146                     NaN         NaN     NaN  \n",
       "171147                     NaN         NaN     NaN  \n",
       "171148                     NaN         NaN     NaN  \n",
       "\n",
       "[171149 rows x 19 columns]"
      ]
     },
     "execution_count": 27,
     "metadata": {},
     "output_type": "execute_result"
    }
   ],
   "source": [
    "array = ['RU', 'MX', 'FR']\n",
    "df[df[['country']].isin(array)]"
   ]
  },
  {
   "cell_type": "code",
   "execution_count": null,
   "metadata": {},
   "outputs": [],
   "source": []
  }
 ],
 "metadata": {
  "kernelspec": {
   "display_name": "Python 3",
   "language": "python",
   "name": "python3"
  },
  "language_info": {
   "codemirror_mode": {
    "name": "ipython",
    "version": 3
   },
   "file_extension": ".py",
   "mimetype": "text/x-python",
   "name": "python",
   "nbconvert_exporter": "python",
   "pygments_lexer": "ipython3",
   "version": "3.7.3"
  }
 },
 "nbformat": 4,
 "nbformat_minor": 2
}
